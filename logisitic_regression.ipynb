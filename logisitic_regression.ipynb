{
 "cells": [
  {
   "cell_type": "markdown",
   "metadata": {},
   "source": [
    "# Logisitc regression"
   ]
  },
  {
   "cell_type": "markdown",
   "metadata": {},
   "source": [
    "Logistic regression for the MNIST dataset."
   ]
  },
  {
   "cell_type": "markdown",
   "metadata": {},
   "source": [
    "## 1. Data preprocessing"
   ]
  },
  {
   "cell_type": "code",
   "execution_count": 1,
   "metadata": {},
   "outputs": [],
   "source": [
    "import numpy as np\n",
    "import pandas as pd\n",
    "\n",
    "import matplotlib.pyplot as plt\n",
    "\n",
    "from sklearn.datasets import load_digits\n",
    "from sklearn.model_selection import train_test_split"
   ]
  },
  {
   "cell_type": "code",
   "execution_count": 2,
   "metadata": {},
   "outputs": [],
   "source": [
    "digits = load_digits()"
   ]
  },
  {
   "cell_type": "code",
   "execution_count": 3,
   "metadata": {},
   "outputs": [
    {
     "data": {
      "text/plain": [
       "dict_keys(['data', 'target', 'frame', 'feature_names', 'target_names', 'images', 'DESCR'])"
      ]
     },
     "execution_count": 3,
     "metadata": {},
     "output_type": "execute_result"
    }
   ],
   "source": [
    "digits.keys()"
   ]
  },
  {
   "cell_type": "code",
   "execution_count": 4,
   "metadata": {},
   "outputs": [
    {
     "name": "stdout",
     "output_type": "stream",
     "text": [
      ".. _digits_dataset:\n",
      "\n",
      "Optical recognition of handwritten digits dataset\n",
      "--------------------------------------------------\n",
      "\n",
      "**Data Set Characteristics:**\n",
      "\n",
      "    :Number of Instances: 1797\n",
      "    :Number of Attributes: 64\n",
      "    :Attribute Information: 8x8 image of integer pixels in the range 0..16.\n",
      "    :Missing Attribute Values: None\n",
      "    :Creator: E. Alpaydin (alpaydin '@' boun.edu.tr)\n",
      "    :Date: July; 1998\n",
      "\n",
      "This is a copy of the test set of the UCI ML hand-written digits datasets\n",
      "https://archive.ics.uci.edu/ml/datasets/Optical+Recognition+of+Handwritten+Digits\n",
      "\n",
      "The data set contains images of hand-written digits: 10 classes where\n",
      "each class refers to a digit.\n",
      "\n",
      "Preprocessing programs made available by NIST were used to extract\n",
      "normalized bitmaps of handwritten digits from a preprinted form. From a\n",
      "total of 43 people, 30 contributed to the training set and different 13\n",
      "to the test set. 32x32 bitmaps are divided into nonoverlapping blocks of\n",
      "4x4 and the number of on pixels are counted in each block. This generates\n",
      "an input matrix of 8x8 where each element is an integer in the range\n",
      "0..16. This reduces dimensionality and gives invariance to small\n",
      "distortions.\n",
      "\n",
      "For info on NIST preprocessing routines, see M. D. Garris, J. L. Blue, G.\n",
      "T. Candela, D. L. Dimmick, J. Geist, P. J. Grother, S. A. Janet, and C.\n",
      "L. Wilson, NIST Form-Based Handprint Recognition System, NISTIR 5469,\n",
      "1994.\n",
      "\n",
      ".. topic:: References\n",
      "\n",
      "  - C. Kaynak (1995) Methods of Combining Multiple Classifiers and Their\n",
      "    Applications to Handwritten Digit Recognition, MSc Thesis, Institute of\n",
      "    Graduate Studies in Science and Engineering, Bogazici University.\n",
      "  - E. Alpaydin, C. Kaynak (1998) Cascading Classifiers, Kybernetika.\n",
      "  - Ken Tang and Ponnuthurai N. Suganthan and Xi Yao and A. Kai Qin.\n",
      "    Linear dimensionalityreduction using relevance weighted LDA. School of\n",
      "    Electrical and Electronic Engineering Nanyang Technological University.\n",
      "    2005.\n",
      "  - Claudio Gentile. A New Approximate Maximal Margin Classification\n",
      "    Algorithm. NIPS. 2000.\n",
      "\n"
     ]
    }
   ],
   "source": [
    "print(digits['DESCR'])"
   ]
  },
  {
   "cell_type": "code",
   "execution_count": 5,
   "metadata": {},
   "outputs": [],
   "source": [
    "images = digits['data']\n",
    "labels = digits['target'].reshape(-1,1)"
   ]
  },
  {
   "cell_type": "code",
   "execution_count": 6,
   "metadata": {},
   "outputs": [],
   "source": [
    "images = images / 255"
   ]
  },
  {
   "cell_type": "code",
   "execution_count": 7,
   "metadata": {},
   "outputs": [
    {
     "name": "stdout",
     "output_type": "stream",
     "text": [
      "(1797, 64) (1797, 1)\n"
     ]
    }
   ],
   "source": [
    "print(images.shape, labels.shape)"
   ]
  },
  {
   "cell_type": "code",
   "execution_count": 8,
   "metadata": {},
   "outputs": [
    {
     "name": "stderr",
     "output_type": "stream",
     "text": [
      "/Users/raphaelperri/opt/anaconda3/envs/torch-gpu/lib/python3.8/site-packages/matplotlib/text.py:1279: FutureWarning: elementwise comparison failed; returning scalar instead, but in the future will perform elementwise comparison\n",
      "  if s != self._text:\n"
     ]
    },
    {
     "data": {
      "image/png": "[encoded data removed]",
      "text/plain": [
       "<Figure size 1500x500 with 10 Axes>"
      ]
     },
     "metadata": {},
     "output_type": "display_data"
    }
   ],
   "source": [
    "fig, ax = plt.subplots(2, 5, figsize=(15, 5))\n",
    "\n",
    "for i in range(10):\n",
    "    if i<5:\n",
    "        ax[0, i].imshow(images[i].reshape(8, 8))\n",
    "        ax[0, i].set_title(labels[i])\n",
    "    else:\n",
    "        ax[1, i - 5].imshow(images[i].reshape(8, 8))\n",
    "        ax[1, i - 5].set_title(labels[i])"
   ]
  },
  {
   "cell_type": "code",
   "execution_count": 13,
   "metadata": {},
   "outputs": [],
   "source": [
    "# Train, test split\n",
    "X_train, X_test, y_train_temp, y_test_temp = train_test_split(images, labels, test_size=0.2, random_state=42)"
   ]
  },
  {
   "cell_type": "code",
   "execution_count": 16,
   "metadata": {},
   "outputs": [],
   "source": [
    "# One hot-encoding for output\n",
    "y_train = np.zeros((y_train_temp.shape[0], np.unique(y_train_temp).shape[0]))\n",
    "for i in range(y_train_temp.shape[0]):\n",
    "    y_train[i, y_train_temp[i]] = 1\n",
    "\n",
    "y_test = np.zeros((y_test_temp.shape[0], np.unique(y_test_temp).shape[0]))\n",
    "for i in range(y_test_temp.shape[0]):\n",
    "    y_test[i, y_test_temp[i]] = 1"
   ]
  },
  {
   "cell_type": "markdown",
   "metadata": {},
   "source": [
    "## 2. Training functions"
   ]
  },
  {
   "cell_type": "code",
   "execution_count": 9,
   "metadata": {},
   "outputs": [],
   "source": [
    "def sigmoid_f(x):\n",
    "    return 1 / (1 + np.exp(-x))"
   ]
  },
  {
   "cell_type": "code",
   "execution_count": 10,
   "metadata": {},
   "outputs": [],
   "source": [
    "def bce(y_true, y_pred):\n",
    "    return - np.mean(y_true * np.log(y_pred) + (1 - y_true) * np.log(1 - y_pred))"
   ]
  },
  {
   "cell_type": "code",
   "execution_count": 11,
   "metadata": {},
   "outputs": [],
   "source": [
    "def grad_bce(x, y, theta):\n",
    "    y_pred = sigmoid_f(np.dot(x, theta))\n",
    "    errors = y_pred - y\n",
    "    gradient = np.dot(x.T, errors)\n",
    "    return gradient"
   ]
  },
  {
   "cell_type": "code",
   "execution_count": 27,
   "metadata": {},
   "outputs": [],
   "source": [
    "def accuracy(y_true, y_pred):\n",
    "    acc = 0\n",
    "    n = len(y_pred)\n",
    "    y_pred = np.array([e.argmax() for e in y_pred])\n",
    "    for i in range(n):\n",
    "        if y_pred[i] == y_true[i]:\n",
    "            acc += 1\n",
    "    return acc / n"
   ]
  },
  {
   "cell_type": "markdown",
   "metadata": {},
   "source": [
    "## 3. Training"
   ]
  },
  {
   "cell_type": "code",
   "execution_count": 44,
   "metadata": {},
   "outputs": [],
   "source": [
    "# Learning rate\n",
    "alpha = 0.1\n",
    "# Iterations\n",
    "n = 500\n",
    "# Initialize the parameters\n",
    "theta = np.zeros(X_train.shape[1]).reshape(-1,1)\n",
    "# Training loss\n",
    "losses = []"
   ]
  },
  {
   "cell_type": "code",
   "execution_count": 45,
   "metadata": {},
   "outputs": [
    {
     "name": "stdout",
     "output_type": "stream",
     "text": [
      "Iteration 1: BCE = 0.6931\n",
      "Iteration 2: BCE = 0.3177\n",
      "Iteration 3: BCE = 0.3066\n",
      "Iteration 4: BCE = 0.2965\n",
      "Iteration 5: BCE = 0.2872\n",
      "Iteration 6: BCE = 0.2785\n",
      "Iteration 7: BCE = 0.2703\n",
      "Iteration 8: BCE = 0.2625\n",
      "Iteration 9: BCE = 0.2552\n",
      "Iteration 10: BCE = 0.2483\n",
      "Iteration 11: BCE = 0.2419\n",
      "Iteration 12: BCE = 0.2358\n",
      "Iteration 13: BCE = 0.2300\n",
      "Iteration 14: BCE = 0.2246\n",
      "Iteration 15: BCE = 0.2195\n",
      "Iteration 16: BCE = 0.2146\n",
      "Iteration 17: BCE = 0.2100\n",
      "Iteration 18: BCE = 0.2057\n",
      "Iteration 19: BCE = 0.2016\n",
      "Iteration 20: BCE = 0.1977\n",
      "Iteration 21: BCE = 0.1939\n",
      "Iteration 22: BCE = 0.1904\n",
      "Iteration 23: BCE = 0.1871\n",
      "Iteration 24: BCE = 0.1839\n",
      "Iteration 25: BCE = 0.1808\n",
      "Iteration 26: BCE = 0.1779\n",
      "Iteration 27: BCE = 0.1751\n",
      "Iteration 28: BCE = 0.1724\n",
      "Iteration 29: BCE = 0.1699\n",
      "Iteration 30: BCE = 0.1674\n",
      "Iteration 31: BCE = 0.1651\n",
      "Iteration 32: BCE = 0.1628\n",
      "Iteration 33: BCE = 0.1607\n",
      "Iteration 34: BCE = 0.1586\n",
      "Iteration 35: BCE = 0.1566\n",
      "Iteration 36: BCE = 0.1547\n",
      "Iteration 37: BCE = 0.1528\n",
      "Iteration 38: BCE = 0.1510\n",
      "Iteration 39: BCE = 0.1493\n",
      "Iteration 40: BCE = 0.1476\n",
      "Iteration 41: BCE = 0.1460\n",
      "Iteration 42: BCE = 0.1444\n",
      "Iteration 43: BCE = 0.1429\n",
      "Iteration 44: BCE = 0.1414\n",
      "Iteration 45: BCE = 0.1400\n",
      "Iteration 46: BCE = 0.1386\n",
      "Iteration 47: BCE = 0.1373\n",
      "Iteration 48: BCE = 0.1360\n",
      "Iteration 49: BCE = 0.1347\n",
      "Iteration 50: BCE = 0.1335\n",
      "Iteration 51: BCE = 0.1323\n",
      "Iteration 52: BCE = 0.1312\n",
      "Iteration 53: BCE = 0.1300\n",
      "Iteration 54: BCE = 0.1289\n",
      "Iteration 55: BCE = 0.1279\n",
      "Iteration 56: BCE = 0.1268\n",
      "Iteration 57: BCE = 0.1258\n",
      "Iteration 58: BCE = 0.1248\n",
      "Iteration 59: BCE = 0.1239\n",
      "Iteration 60: BCE = 0.1229\n",
      "Iteration 61: BCE = 0.1220\n",
      "Iteration 62: BCE = 0.1211\n",
      "Iteration 63: BCE = 0.1202\n",
      "Iteration 64: BCE = 0.1194\n",
      "Iteration 65: BCE = 0.1186\n",
      "Iteration 66: BCE = 0.1177\n",
      "Iteration 67: BCE = 0.1170\n",
      "Iteration 68: BCE = 0.1162\n",
      "Iteration 69: BCE = 0.1154\n",
      "Iteration 70: BCE = 0.1147\n",
      "Iteration 71: BCE = 0.1139\n",
      "Iteration 72: BCE = 0.1132\n",
      "Iteration 73: BCE = 0.1125\n",
      "Iteration 74: BCE = 0.1118\n",
      "Iteration 75: BCE = 0.1112\n",
      "Iteration 76: BCE = 0.1105\n",
      "Iteration 77: BCE = 0.1099\n",
      "Iteration 78: BCE = 0.1092\n",
      "Iteration 79: BCE = 0.1086\n",
      "Iteration 80: BCE = 0.1080\n",
      "Iteration 81: BCE = 0.1074\n",
      "Iteration 82: BCE = 0.1068\n",
      "Iteration 83: BCE = 0.1062\n",
      "Iteration 84: BCE = 0.1057\n",
      "Iteration 85: BCE = 0.1051\n",
      "Iteration 86: BCE = 0.1046\n",
      "Iteration 87: BCE = 0.1040\n",
      "Iteration 88: BCE = 0.1035\n",
      "Iteration 89: BCE = 0.1030\n",
      "Iteration 90: BCE = 0.1025\n",
      "Iteration 91: BCE = 0.1020\n",
      "Iteration 92: BCE = 0.1015\n",
      "Iteration 93: BCE = 0.1010\n",
      "Iteration 94: BCE = 0.1005\n",
      "Iteration 95: BCE = 0.1000\n",
      "Iteration 96: BCE = 0.0996\n",
      "Iteration 97: BCE = 0.0991\n",
      "Iteration 98: BCE = 0.0987\n",
      "Iteration 99: BCE = 0.0982\n",
      "Iteration 100: BCE = 0.0978\n",
      "Iteration 101: BCE = 0.0974\n",
      "Iteration 102: BCE = 0.0970\n",
      "Iteration 103: BCE = 0.0966\n",
      "Iteration 104: BCE = 0.0961\n",
      "Iteration 105: BCE = 0.0957\n",
      "Iteration 106: BCE = 0.0953\n",
      "Iteration 107: BCE = 0.0950\n",
      "Iteration 108: BCE = 0.0946\n",
      "Iteration 109: BCE = 0.0942\n",
      "Iteration 110: BCE = 0.0938\n",
      "Iteration 111: BCE = 0.0935\n",
      "Iteration 112: BCE = 0.0931\n",
      "Iteration 113: BCE = 0.0927\n",
      "Iteration 114: BCE = 0.0924\n",
      "Iteration 115: BCE = 0.0920\n",
      "Iteration 116: BCE = 0.0917\n",
      "Iteration 117: BCE = 0.0913\n",
      "Iteration 118: BCE = 0.0910\n",
      "Iteration 119: BCE = 0.0907\n",
      "Iteration 120: BCE = 0.0904\n",
      "Iteration 121: BCE = 0.0900\n",
      "Iteration 122: BCE = 0.0897\n",
      "Iteration 123: BCE = 0.0894\n",
      "Iteration 124: BCE = 0.0891\n",
      "Iteration 125: BCE = 0.0888\n",
      "Iteration 126: BCE = 0.0885\n",
      "Iteration 127: BCE = 0.0882\n",
      "Iteration 128: BCE = 0.0879\n",
      "Iteration 129: BCE = 0.0876\n",
      "Iteration 130: BCE = 0.0873\n",
      "Iteration 131: BCE = 0.0870\n",
      "Iteration 132: BCE = 0.0868\n",
      "Iteration 133: BCE = 0.0865\n",
      "Iteration 134: BCE = 0.0862\n",
      "Iteration 135: BCE = 0.0859\n",
      "Iteration 136: BCE = 0.0857\n",
      "Iteration 137: BCE = 0.0854\n",
      "Iteration 138: BCE = 0.0851\n",
      "Iteration 139: BCE = 0.0849\n",
      "Iteration 140: BCE = 0.0846\n",
      "Iteration 141: BCE = 0.0844\n",
      "Iteration 142: BCE = 0.0841\n",
      "Iteration 143: BCE = 0.0839\n",
      "Iteration 144: BCE = 0.0836\n",
      "Iteration 145: BCE = 0.0834\n",
      "Iteration 146: BCE = 0.0831\n",
      "Iteration 147: BCE = 0.0829\n",
      "Iteration 148: BCE = 0.0827\n",
      "Iteration 149: BCE = 0.0824\n",
      "Iteration 150: BCE = 0.0822\n",
      "Iteration 151: BCE = 0.0820\n",
      "Iteration 152: BCE = 0.0818\n",
      "Iteration 153: BCE = 0.0815\n",
      "Iteration 154: BCE = 0.0813\n",
      "Iteration 155: BCE = 0.0811\n",
      "Iteration 156: BCE = 0.0809\n",
      "Iteration 157: BCE = 0.0807\n",
      "Iteration 158: BCE = 0.0805\n",
      "Iteration 159: BCE = 0.0802\n",
      "Iteration 160: BCE = 0.0800\n",
      "Iteration 161: BCE = 0.0798\n",
      "Iteration 162: BCE = 0.0796\n",
      "Iteration 163: BCE = 0.0794\n",
      "Iteration 164: BCE = 0.0792\n",
      "Iteration 165: BCE = 0.0790\n",
      "Iteration 166: BCE = 0.0788\n",
      "Iteration 167: BCE = 0.0786\n",
      "Iteration 168: BCE = 0.0784\n",
      "Iteration 169: BCE = 0.0783\n",
      "Iteration 170: BCE = 0.0781\n",
      "Iteration 171: BCE = 0.0779\n",
      "Iteration 172: BCE = 0.0777\n",
      "Iteration 173: BCE = 0.0775\n",
      "Iteration 174: BCE = 0.0773\n",
      "Iteration 175: BCE = 0.0771\n",
      "Iteration 176: BCE = 0.0770\n",
      "Iteration 177: BCE = 0.0768\n",
      "Iteration 178: BCE = 0.0766\n",
      "Iteration 179: BCE = 0.0764\n",
      "Iteration 180: BCE = 0.0763\n",
      "Iteration 181: BCE = 0.0761\n",
      "Iteration 182: BCE = 0.0759\n",
      "Iteration 183: BCE = 0.0758\n",
      "Iteration 184: BCE = 0.0756\n",
      "Iteration 185: BCE = 0.0754\n",
      "Iteration 186: BCE = 0.0753\n",
      "Iteration 187: BCE = 0.0751\n",
      "Iteration 188: BCE = 0.0749\n",
      "Iteration 189: BCE = 0.0748\n",
      "Iteration 190: BCE = 0.0746\n",
      "Iteration 191: BCE = 0.0745\n",
      "Iteration 192: BCE = 0.0743\n",
      "Iteration 193: BCE = 0.0742\n",
      "Iteration 194: BCE = 0.0740\n",
      "Iteration 195: BCE = 0.0739\n",
      "Iteration 196: BCE = 0.0737\n",
      "Iteration 197: BCE = 0.0736\n",
      "Iteration 198: BCE = 0.0734\n",
      "Iteration 199: BCE = 0.0733\n",
      "Iteration 200: BCE = 0.0731\n",
      "Iteration 201: BCE = 0.0730\n",
      "Iteration 202: BCE = 0.0728\n",
      "Iteration 203: BCE = 0.0727\n",
      "Iteration 204: BCE = 0.0725\n",
      "Iteration 205: BCE = 0.0724\n",
      "Iteration 206: BCE = 0.0723\n",
      "Iteration 207: BCE = 0.0721\n",
      "Iteration 208: BCE = 0.0720\n",
      "Iteration 209: BCE = 0.0719\n",
      "Iteration 210: BCE = 0.0717\n",
      "Iteration 211: BCE = 0.0716\n",
      "Iteration 212: BCE = 0.0714\n",
      "Iteration 213: BCE = 0.0713\n",
      "Iteration 214: BCE = 0.0712\n",
      "Iteration 215: BCE = 0.0711\n",
      "Iteration 216: BCE = 0.0709\n",
      "Iteration 217: BCE = 0.0708\n",
      "Iteration 218: BCE = 0.0707\n",
      "Iteration 219: BCE = 0.0705\n",
      "Iteration 220: BCE = 0.0704\n",
      "Iteration 221: BCE = 0.0703\n",
      "Iteration 222: BCE = 0.0702\n",
      "Iteration 223: BCE = 0.0700\n",
      "Iteration 224: BCE = 0.0699\n",
      "Iteration 225: BCE = 0.0698\n",
      "Iteration 226: BCE = 0.0697\n",
      "Iteration 227: BCE = 0.0696\n",
      "Iteration 228: BCE = 0.0694\n",
      "Iteration 229: BCE = 0.0693\n",
      "Iteration 230: BCE = 0.0692\n",
      "Iteration 231: BCE = 0.0691\n",
      "Iteration 232: BCE = 0.0690\n",
      "Iteration 233: BCE = 0.0689\n",
      "Iteration 234: BCE = 0.0688\n",
      "Iteration 235: BCE = 0.0686\n",
      "Iteration 236: BCE = 0.0685\n",
      "Iteration 237: BCE = 0.0684\n",
      "Iteration 238: BCE = 0.0683\n",
      "Iteration 239: BCE = 0.0682\n",
      "Iteration 240: BCE = 0.0681\n",
      "Iteration 241: BCE = 0.0680\n",
      "Iteration 242: BCE = 0.0679\n",
      "Iteration 243: BCE = 0.0678\n",
      "Iteration 244: BCE = 0.0677\n",
      "Iteration 245: BCE = 0.0675\n",
      "Iteration 246: BCE = 0.0674\n",
      "Iteration 247: BCE = 0.0673\n",
      "Iteration 248: BCE = 0.0672\n",
      "Iteration 249: BCE = 0.0671\n",
      "Iteration 250: BCE = 0.0670\n",
      "Iteration 251: BCE = 0.0669\n",
      "Iteration 252: BCE = 0.0668\n",
      "Iteration 253: BCE = 0.0667\n",
      "Iteration 254: BCE = 0.0666\n",
      "Iteration 255: BCE = 0.0665\n",
      "Iteration 256: BCE = 0.0664\n",
      "Iteration 257: BCE = 0.0663\n",
      "Iteration 258: BCE = 0.0662\n",
      "Iteration 259: BCE = 0.0661\n",
      "Iteration 260: BCE = 0.0660\n",
      "Iteration 261: BCE = 0.0659\n",
      "Iteration 262: BCE = 0.0658\n",
      "Iteration 263: BCE = 0.0658\n",
      "Iteration 264: BCE = 0.0657\n",
      "Iteration 265: BCE = 0.0656\n",
      "Iteration 266: BCE = 0.0655\n",
      "Iteration 267: BCE = 0.0654\n",
      "Iteration 268: BCE = 0.0653\n",
      "Iteration 269: BCE = 0.0652\n",
      "Iteration 270: BCE = 0.0651\n",
      "Iteration 271: BCE = 0.0650\n",
      "Iteration 272: BCE = 0.0649\n",
      "Iteration 273: BCE = 0.0648\n",
      "Iteration 274: BCE = 0.0647\n",
      "Iteration 275: BCE = 0.0647\n",
      "Iteration 276: BCE = 0.0646\n",
      "Iteration 277: BCE = 0.0645\n",
      "Iteration 278: BCE = 0.0644\n",
      "Iteration 279: BCE = 0.0643\n",
      "Iteration 280: BCE = 0.0642\n",
      "Iteration 281: BCE = 0.0641\n",
      "Iteration 282: BCE = 0.0641\n",
      "Iteration 283: BCE = 0.0640\n",
      "Iteration 284: BCE = 0.0639\n",
      "Iteration 285: BCE = 0.0638\n",
      "Iteration 286: BCE = 0.0637\n",
      "Iteration 287: BCE = 0.0636\n",
      "Iteration 288: BCE = 0.0636\n",
      "Iteration 289: BCE = 0.0635\n",
      "Iteration 290: BCE = 0.0634\n",
      "Iteration 291: BCE = 0.0633\n",
      "Iteration 292: BCE = 0.0632\n",
      "Iteration 293: BCE = 0.0632\n",
      "Iteration 294: BCE = 0.0631\n",
      "Iteration 295: BCE = 0.0630\n",
      "Iteration 296: BCE = 0.0629\n",
      "Iteration 297: BCE = 0.0628\n",
      "Iteration 298: BCE = 0.0628\n",
      "Iteration 299: BCE = 0.0627\n",
      "Iteration 300: BCE = 0.0626\n",
      "Iteration 301: BCE = 0.0625\n",
      "Iteration 302: BCE = 0.0625\n",
      "Iteration 303: BCE = 0.0624\n",
      "Iteration 304: BCE = 0.0623\n",
      "Iteration 305: BCE = 0.0622\n",
      "Iteration 306: BCE = 0.0622\n",
      "Iteration 307: BCE = 0.0621\n",
      "Iteration 308: BCE = 0.0620\n",
      "Iteration 309: BCE = 0.0619\n",
      "Iteration 310: BCE = 0.0619\n",
      "Iteration 311: BCE = 0.0618\n",
      "Iteration 312: BCE = 0.0617\n",
      "Iteration 313: BCE = 0.0616\n",
      "Iteration 314: BCE = 0.0616\n",
      "Iteration 315: BCE = 0.0615\n",
      "Iteration 316: BCE = 0.0614\n",
      "Iteration 317: BCE = 0.0614\n",
      "Iteration 318: BCE = 0.0613\n",
      "Iteration 319: BCE = 0.0612\n",
      "Iteration 320: BCE = 0.0611\n",
      "Iteration 321: BCE = 0.0611\n",
      "Iteration 322: BCE = 0.0610\n",
      "Iteration 323: BCE = 0.0609\n",
      "Iteration 324: BCE = 0.0609\n",
      "Iteration 325: BCE = 0.0608\n",
      "Iteration 326: BCE = 0.0607\n",
      "Iteration 327: BCE = 0.0607\n",
      "Iteration 328: BCE = 0.0606\n",
      "Iteration 329: BCE = 0.0605\n",
      "Iteration 330: BCE = 0.0605\n",
      "Iteration 331: BCE = 0.0604\n",
      "Iteration 332: BCE = 0.0603\n",
      "Iteration 333: BCE = 0.0603\n",
      "Iteration 334: BCE = 0.0602\n",
      "Iteration 335: BCE = 0.0601\n",
      "Iteration 336: BCE = 0.0601\n",
      "Iteration 337: BCE = 0.0600\n",
      "Iteration 338: BCE = 0.0599\n",
      "Iteration 339: BCE = 0.0599\n",
      "Iteration 340: BCE = 0.0598\n",
      "Iteration 341: BCE = 0.0598\n",
      "Iteration 342: BCE = 0.0597\n",
      "Iteration 343: BCE = 0.0596\n",
      "Iteration 344: BCE = 0.0596\n",
      "Iteration 345: BCE = 0.0595\n",
      "Iteration 346: BCE = 0.0594\n",
      "Iteration 347: BCE = 0.0594\n",
      "Iteration 348: BCE = 0.0593\n",
      "Iteration 349: BCE = 0.0593\n",
      "Iteration 350: BCE = 0.0592\n",
      "Iteration 351: BCE = 0.0591\n",
      "Iteration 352: BCE = 0.0591\n",
      "Iteration 353: BCE = 0.0590\n",
      "Iteration 354: BCE = 0.0590\n",
      "Iteration 355: BCE = 0.0589\n",
      "Iteration 356: BCE = 0.0588\n",
      "Iteration 357: BCE = 0.0588\n",
      "Iteration 358: BCE = 0.0587\n",
      "Iteration 359: BCE = 0.0587\n",
      "Iteration 360: BCE = 0.0586\n",
      "Iteration 361: BCE = 0.0586\n",
      "Iteration 362: BCE = 0.0585\n",
      "Iteration 363: BCE = 0.0584\n",
      "Iteration 364: BCE = 0.0584\n",
      "Iteration 365: BCE = 0.0583\n",
      "Iteration 366: BCE = 0.0583\n",
      "Iteration 367: BCE = 0.0582\n",
      "Iteration 368: BCE = 0.0582\n",
      "Iteration 369: BCE = 0.0581\n",
      "Iteration 370: BCE = 0.0580\n",
      "Iteration 371: BCE = 0.0580\n",
      "Iteration 372: BCE = 0.0579\n",
      "Iteration 373: BCE = 0.0579\n",
      "Iteration 374: BCE = 0.0578\n",
      "Iteration 375: BCE = 0.0578\n",
      "Iteration 376: BCE = 0.0577\n",
      "Iteration 377: BCE = 0.0577\n",
      "Iteration 378: BCE = 0.0576\n",
      "Iteration 379: BCE = 0.0576\n",
      "Iteration 380: BCE = 0.0575\n",
      "Iteration 381: BCE = 0.0575\n",
      "Iteration 382: BCE = 0.0574\n",
      "Iteration 383: BCE = 0.0573\n",
      "Iteration 384: BCE = 0.0573\n",
      "Iteration 385: BCE = 0.0572\n",
      "Iteration 386: BCE = 0.0572\n",
      "Iteration 387: BCE = 0.0571\n",
      "Iteration 388: BCE = 0.0571\n",
      "Iteration 389: BCE = 0.0570\n",
      "Iteration 390: BCE = 0.0570\n",
      "Iteration 391: BCE = 0.0569\n",
      "Iteration 392: BCE = 0.0569\n",
      "Iteration 393: BCE = 0.0568\n",
      "Iteration 394: BCE = 0.0568\n",
      "Iteration 395: BCE = 0.0567\n",
      "Iteration 396: BCE = 0.0567\n",
      "Iteration 397: BCE = 0.0566\n",
      "Iteration 398: BCE = 0.0566\n",
      "Iteration 399: BCE = 0.0565\n",
      "Iteration 400: BCE = 0.0565\n",
      "Iteration 401: BCE = 0.0564\n",
      "Iteration 402: BCE = 0.0564\n",
      "Iteration 403: BCE = 0.0563\n",
      "Iteration 404: BCE = 0.0563\n",
      "Iteration 405: BCE = 0.0562\n",
      "Iteration 406: BCE = 0.0562\n",
      "Iteration 407: BCE = 0.0561\n",
      "Iteration 408: BCE = 0.0561\n",
      "Iteration 409: BCE = 0.0560\n",
      "Iteration 410: BCE = 0.0560\n",
      "Iteration 411: BCE = 0.0560\n",
      "Iteration 412: BCE = 0.0559\n",
      "Iteration 413: BCE = 0.0559\n",
      "Iteration 414: BCE = 0.0558\n",
      "Iteration 415: BCE = 0.0558\n",
      "Iteration 416: BCE = 0.0557\n",
      "Iteration 417: BCE = 0.0557\n",
      "Iteration 418: BCE = 0.0556\n",
      "Iteration 419: BCE = 0.0556\n",
      "Iteration 420: BCE = 0.0555\n",
      "Iteration 421: BCE = 0.0555\n",
      "Iteration 422: BCE = 0.0554\n",
      "Iteration 423: BCE = 0.0554\n",
      "Iteration 424: BCE = 0.0554\n",
      "Iteration 425: BCE = 0.0553\n",
      "Iteration 426: BCE = 0.0553\n",
      "Iteration 427: BCE = 0.0552\n",
      "Iteration 428: BCE = 0.0552\n",
      "Iteration 429: BCE = 0.0551\n",
      "Iteration 430: BCE = 0.0551\n",
      "Iteration 431: BCE = 0.0550\n",
      "Iteration 432: BCE = 0.0550\n",
      "Iteration 433: BCE = 0.0550\n",
      "Iteration 434: BCE = 0.0549\n",
      "Iteration 435: BCE = 0.0549\n",
      "Iteration 436: BCE = 0.0548\n",
      "Iteration 437: BCE = 0.0548\n",
      "Iteration 438: BCE = 0.0547\n",
      "Iteration 439: BCE = 0.0547\n",
      "Iteration 440: BCE = 0.0547\n",
      "Iteration 441: BCE = 0.0546\n",
      "Iteration 442: BCE = 0.0546\n",
      "Iteration 443: BCE = 0.0545\n",
      "Iteration 444: BCE = 0.0545\n",
      "Iteration 445: BCE = 0.0544\n",
      "Iteration 446: BCE = 0.0544\n",
      "Iteration 447: BCE = 0.0544\n",
      "Iteration 448: BCE = 0.0543\n",
      "Iteration 449: BCE = 0.0543\n",
      "Iteration 450: BCE = 0.0542\n",
      "Iteration 451: BCE = 0.0542\n",
      "Iteration 452: BCE = 0.0542\n",
      "Iteration 453: BCE = 0.0541\n",
      "Iteration 454: BCE = 0.0541\n",
      "Iteration 455: BCE = 0.0540\n",
      "Iteration 456: BCE = 0.0540\n",
      "Iteration 457: BCE = 0.0540\n",
      "Iteration 458: BCE = 0.0539\n",
      "Iteration 459: BCE = 0.0539\n",
      "Iteration 460: BCE = 0.0538\n",
      "Iteration 461: BCE = 0.0538\n",
      "Iteration 462: BCE = 0.0538\n",
      "Iteration 463: BCE = 0.0537\n",
      "Iteration 464: BCE = 0.0537\n",
      "Iteration 465: BCE = 0.0536\n",
      "Iteration 466: BCE = 0.0536\n",
      "Iteration 467: BCE = 0.0536\n",
      "Iteration 468: BCE = 0.0535\n",
      "Iteration 469: BCE = 0.0535\n",
      "Iteration 470: BCE = 0.0535\n",
      "Iteration 471: BCE = 0.0534\n",
      "Iteration 472: BCE = 0.0534\n",
      "Iteration 473: BCE = 0.0533\n",
      "Iteration 474: BCE = 0.0533\n",
      "Iteration 475: BCE = 0.0533\n",
      "Iteration 476: BCE = 0.0532\n",
      "Iteration 477: BCE = 0.0532\n",
      "Iteration 478: BCE = 0.0531\n",
      "Iteration 479: BCE = 0.0531\n",
      "Iteration 480: BCE = 0.0531\n",
      "Iteration 481: BCE = 0.0530\n",
      "Iteration 482: BCE = 0.0530\n",
      "Iteration 483: BCE = 0.0530\n",
      "Iteration 484: BCE = 0.0529\n",
      "Iteration 485: BCE = 0.0529\n",
      "Iteration 486: BCE = 0.0529\n",
      "Iteration 487: BCE = 0.0528\n",
      "Iteration 488: BCE = 0.0528\n",
      "Iteration 489: BCE = 0.0527\n",
      "Iteration 490: BCE = 0.0527\n",
      "Iteration 491: BCE = 0.0527\n",
      "Iteration 492: BCE = 0.0526\n",
      "Iteration 493: BCE = 0.0526\n",
      "Iteration 494: BCE = 0.0526\n",
      "Iteration 495: BCE = 0.0525\n",
      "Iteration 496: BCE = 0.0525\n",
      "Iteration 497: BCE = 0.0525\n",
      "Iteration 498: BCE = 0.0524\n",
      "Iteration 499: BCE = 0.0524\n",
      "Iteration 500: BCE = 0.0524\n"
     ]
    }
   ],
   "source": [
    "for k in range(n):\n",
    "    y_pred = sigmoid_f(np.dot(X_train, theta))\n",
    "    loss = bce(y_train, y_pred)\n",
    "    losses.append(loss)\n",
    "    theta = theta - alpha * grad_bce(X_train, y_train, theta)\n",
    "    print(f'Iteration {k+1}: BCE = {loss:.4f}')"
   ]
  },
  {
   "cell_type": "code",
   "execution_count": 46,
   "metadata": {},
   "outputs": [
    {
     "data": {
      "text/plain": [
       "[<matplotlib.lines.Line2D at 0x7f81d9b7c790>]"
      ]
     },
     "execution_count": 46,
     "metadata": {},
     "output_type": "execute_result"
    },
    {
     "data": {
      "image/png": "[encoded data removed]",
      "text/plain": [
       "<Figure size 640x480 with 1 Axes>"
      ]
     },
     "metadata": {},
     "output_type": "display_data"
    }
   ],
   "source": [
    "plt.plot(range(n), losses)"
   ]
  },
  {
   "cell_type": "code",
   "execution_count": 47,
   "metadata": {},
   "outputs": [],
   "source": [
    "y_pred = sigmoid_f(np.dot(X_test, theta))"
   ]
  },
  {
   "cell_type": "code",
   "execution_count": 48,
   "metadata": {},
   "outputs": [
    {
     "name": "stdout",
     "output_type": "stream",
     "text": [
      "Loss: 0.0503\n",
      "Accuracy: 0.9528\n"
     ]
    }
   ],
   "source": [
    "loss_test = bce(y_test, y_pred)\n",
    "acc_test = accuracy(y_test_temp, y_pred)\n",
    "\n",
    "print(f'Loss: {loss_test:.4f}')\n",
    "print(f'Accuracy: {acc_test:.4f}')"
   ]
  },
  {
   "cell_type": "markdown",
   "metadata": {},
   "source": [
    "## 4. Comparison with scikit-learn"
   ]
  },
  {
   "cell_type": "code",
   "execution_count": 49,
   "metadata": {},
   "outputs": [],
   "source": [
    "from sklearn.linear_model import LogisticRegression"
   ]
  },
  {
   "cell_type": "code",
   "execution_count": 50,
   "metadata": {},
   "outputs": [],
   "source": [
    "lr = LogisticRegression()"
   ]
  },
  {
   "cell_type": "code",
   "execution_count": 51,
   "metadata": {},
   "outputs": [
    {
     "name": "stderr",
     "output_type": "stream",
     "text": [
      "/Users/raphaelperri/opt/anaconda3/envs/torch-gpu/lib/python3.8/site-packages/sklearn/utils/validation.py:1143: DataConversionWarning: A column-vector y was passed when a 1d array was expected. Please change the shape of y to (n_samples, ), for example using ravel().\n",
      "  y = column_or_1d(y, warn=True)\n"
     ]
    },
    {
     "data": {
      "text/html": [
       "<style>#sk-container-id-2 {color: black;background-color: white;}#sk-container-id-2 pre{padding: 0;}#sk-container-id-2 div.sk-toggleable {background-color: white;}#sk-container-id-2 label.sk-toggleable__label {cursor: pointer;display: block;width: 100%;margin-bottom: 0;padding: 0.3em;box-sizing: border-box;text-align: center;}#sk-container-id-2 label.sk-toggleable__label-arrow:before {content: \"▸\";float: left;margin-right: 0.25em;color: #696969;}#sk-container-id-2 label.sk-toggleable__label-arrow:hover:before {color: black;}#sk-container-id-2 div.sk-estimator:hover label.sk-toggleable__label-arrow:before {color: black;}#sk-container-id-2 div.sk-toggleable__content {max-height: 0;max-width: 0;overflow: hidden;text-align: left;background-color: #f0f8ff;}#sk-container-id-2 div.sk-toggleable__content pre {margin: 0.2em;color: black;border-radius: 0.25em;background-color: #f0f8ff;}#sk-container-id-2 input.sk-toggleable__control:checked~div.sk-toggleable__content {max-height: 200px;max-width: 100%;overflow: auto;}#sk-container-id-2 input.sk-toggleable__control:checked~label.sk-toggleable__label-arrow:before {content: \"▾\";}#sk-container-id-2 div.sk-estimator input.sk-toggleable__control:checked~label.sk-toggleable__label {background-color: #d4ebff;}#sk-container-id-2 div.sk-label input.sk-toggleable__control:checked~label.sk-toggleable__label {background-color: #d4ebff;}#sk-container-id-2 input.sk-hidden--visually {border: 0;clip: rect(1px 1px 1px 1px);clip: rect(1px, 1px, 1px, 1px);height: 1px;margin: -1px;overflow: hidden;padding: 0;position: absolute;width: 1px;}#sk-container-id-2 div.sk-estimator {font-family: monospace;background-color: #f0f8ff;border: 1px dotted black;border-radius: 0.25em;box-sizing: border-box;margin-bottom: 0.5em;}#sk-container-id-2 div.sk-estimator:hover {background-color: #d4ebff;}#sk-container-id-2 div.sk-parallel-item::after {content: \"\";width: 100%;border-bottom: 1px solid gray;flex-grow: 1;}#sk-container-id-2 div.sk-label:hover label.sk-toggleable__label {background-color: #d4ebff;}#sk-container-id-2 div.sk-serial::before {content: \"\";position: absolute;border-left: 1px solid gray;box-sizing: border-box;top: 0;bottom: 0;left: 50%;z-index: 0;}#sk-container-id-2 div.sk-serial {display: flex;flex-direction: column;align-items: center;background-color: white;padding-right: 0.2em;padding-left: 0.2em;position: relative;}#sk-container-id-2 div.sk-item {position: relative;z-index: 1;}#sk-container-id-2 div.sk-parallel {display: flex;align-items: stretch;justify-content: center;background-color: white;position: relative;}#sk-container-id-2 div.sk-item::before, #sk-container-id-2 div.sk-parallel-item::before {content: \"\";position: absolute;border-left: 1px solid gray;box-sizing: border-box;top: 0;bottom: 0;left: 50%;z-index: -1;}#sk-container-id-2 div.sk-parallel-item {display: flex;flex-direction: column;z-index: 1;position: relative;background-color: white;}#sk-container-id-2 div.sk-parallel-item:first-child::after {align-self: flex-end;width: 50%;}#sk-container-id-2 div.sk-parallel-item:last-child::after {align-self: flex-start;width: 50%;}#sk-container-id-2 div.sk-parallel-item:only-child::after {width: 0;}#sk-container-id-2 div.sk-dashed-wrapped {border: 1px dashed gray;margin: 0 0.4em 0.5em 0.4em;box-sizing: border-box;padding-bottom: 0.4em;background-color: white;}#sk-container-id-2 div.sk-label label {font-family: monospace;font-weight: bold;display: inline-block;line-height: 1.2em;}#sk-container-id-2 div.sk-label-container {text-align: center;}#sk-container-id-2 div.sk-container {/* jupyter's `normalize.less` sets `[hidden] { display: none; }` but bootstrap.min.css set `[hidden] { display: none !important; }` so we also need the `!important` here to be able to override the default hidden behavior on the sphinx rendered scikit-learn.org. See: https://github.com/scikit-learn/scikit-learn/issues/21755 */display: inline-block !important;position: relative;}#sk-container-id-2 div.sk-text-repr-fallback {display: none;}</style><div id=\"sk-container-id-2\" class=\"sk-top-container\"><div class=\"sk-text-repr-fallback\"><pre>LogisticRegression()</pre><b>In a Jupyter environment, please rerun this cell to show the HTML representation or trust the notebook. <br />On GitHub, the HTML representation is unable to render, please try loading this page with nbviewer.org.</b></div><div class=\"sk-container\" hidden><div class=\"sk-item\"><div class=\"sk-estimator sk-toggleable\"><input class=\"sk-toggleable__control sk-hidden--visually\" id=\"sk-estimator-id-2\" type=\"checkbox\" checked><label for=\"sk-estimator-id-2\" class=\"sk-toggleable__label sk-toggleable__label-arrow\">LogisticRegression</label><div class=\"sk-toggleable__content\"><pre>LogisticRegression()</pre></div></div></div></div></div>"
      ],
      "text/plain": [
       "LogisticRegression()"
      ]
     },
     "execution_count": 51,
     "metadata": {},
     "output_type": "execute_result"
    }
   ],
   "source": [
    "lr.fit(X_train, y_train_temp)"
   ]
  },
  {
   "cell_type": "code",
   "execution_count": 52,
   "metadata": {},
   "outputs": [],
   "source": [
    "y_test_pred = lr.predict(X_test)"
   ]
  },
  {
   "cell_type": "code",
   "execution_count": 53,
   "metadata": {},
   "outputs": [
    {
     "name": "stdout",
     "output_type": "stream",
     "text": [
      "Loss: 0.0503\n",
      "Accuracy: 0.9528\n"
     ]
    }
   ],
   "source": [
    "loss_test_sk = bce(y_test, y_pred)\n",
    "acc_test_sk = accuracy(y_test_temp, y_pred)\n",
    "\n",
    "print(f'Loss: {loss_test_sk:.4f}')\n",
    "print(f'Accuracy: {acc_test_sk:.4f}')"
   ]
  },
  {
   "cell_type": "code",
   "execution_count": 54,
   "metadata": {},
   "outputs": [
    {
     "name": "stdout",
     "output_type": "stream",
     "text": [
      "Loss difference between our model and scikit-learn model: 0.0\n",
      "Accuracy difference between our model and scikit-learn model: 0.0\n"
     ]
    }
   ],
   "source": [
    "print(f'Loss difference between our model and scikit-learn model: {loss_test - loss_test_sk}')\n",
    "print(f'Accuracy difference between our model and scikit-learn model: {acc_test - acc_test_sk}')"
   ]
  },
  {
   "cell_type": "code",
   "execution_count": null,
   "metadata": {},
   "outputs": [],
   "source": []
  }
 ],
 "metadata": {
  "kernelspec": {
   "display_name": "torch-gpu",
   "language": "python",
   "name": "python3"
  },
  "language_info": {
   "codemirror_mode": {
    "name": "ipython",
    "version": 3
   },
   "file_extension": ".py",
   "mimetype": "text/x-python",
   "name": "python",
   "nbconvert_exporter": "python",
   "pygments_lexer": "ipython3",
   "version": "3.8.16"
  }
 },
 "nbformat": 4,
 "nbformat_minor": 2
}
